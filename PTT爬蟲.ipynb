{
  "nbformat": 4,
  "nbformat_minor": 0,
  "metadata": {
    "colab": {
      "name": "main.ipynb",
      "provenance": []
    },
    "kernelspec": {
      "name": "python3",
      "display_name": "Python 3"
    }
  },
  "cells": [
    {
      "cell_type": "code",
      "metadata": {
        "id": "DylbAn8Ys1Kd",
        "colab_type": "code",
        "colab": {}
      },
      "source": [
        "cd /content/drive/My Drive/Colab Work/SNA_Final_Project"
      ],
      "execution_count": null,
      "outputs": []
    },
    {
      "cell_type": "code",
      "metadata": {
        "id": "EdIyeR7RZ3g5",
        "colab_type": "code",
        "colab": {}
      },
      "source": [
        "!git clone https://github.com/jwlin/ptt-web-crawler.git"
      ],
      "execution_count": null,
      "outputs": []
    },
    {
      "cell_type": "code",
      "metadata": {
        "id": "5J48YuVxagkZ",
        "colab_type": "code",
        "colab": {}
      },
      "source": [
        "cd /content/drive/My Drive/Colab Work/SNA_Final_Project/ptt-web-crawler"
      ],
      "execution_count": null,
      "outputs": []
    },
    {
      "cell_type": "code",
      "metadata": {
        "id": "pJ1-XTc-afPJ",
        "colab_type": "code",
        "colab": {}
      },
      "source": [
        "from PttWebCrawler.crawler import *"
      ],
      "execution_count": null,
      "outputs": []
    },
    {
      "cell_type": "code",
      "metadata": {
        "id": "wyYarJ72aDkQ",
        "colab_type": "code",
        "colab": {}
      },
      "source": [
        "c = PttWebCrawler(as_lib=True)\n",
        "c.parse_articles(0, 500, 'WomenTalk')"
      ],
      "execution_count": null,
      "outputs": []
    },
    {
      "cell_type": "code",
      "metadata": {
        "id": "eLc16zjtftZe",
        "colab_type": "code",
        "colab": {}
      },
      "source": [
        "!pip3 install ujson"
      ],
      "execution_count": null,
      "outputs": []
    },
    {
      "cell_type": "code",
      "metadata": {
        "id": "PmO6oqAvf3ES",
        "colab_type": "code",
        "colab": {}
      },
      "source": [
        "import ujson\n",
        "\n",
        "node_list_1 = []\n",
        "node_list_2 = []\n",
        "\n",
        "with open('/content/drive/My Drive/Colab Work/SNA_Final_Project/ptt-web-crawler/WomenTalk-0-500.json') as json_file:\n",
        "    data = ujson.load(json_file)\n",
        "    for p in data['articles']:\n",
        "        for i in p['messages']:\n",
        "            try:\n",
        "                if(len(p['author'])>1):\n",
        "                    node_list_1.append(p['author'].split(' (')[0])\n",
        "                    node_list_2.append(i['push_userid'])\n",
        "            except:\n",
        "                print('Nontype error')"
      ],
      "execution_count": null,
      "outputs": []
    },
    {
      "cell_type": "code",
      "metadata": {
        "id": "ucodfOpzm4lO",
        "colab_type": "code",
        "colab": {}
      },
      "source": [
        "import pandas as pd\n",
        "nodel_list_count = [ 1 for i in range(0,len(node_list_1))]\n",
        "ptt_df = pd.DataFrame({'node_1': node_list_1, 'node_2': node_list_2, 'node_3': nodel_list_count})"
      ],
      "execution_count": null,
      "outputs": []
    },
    {
      "cell_type": "code",
      "metadata": {
        "id": "KH7qdYMDvRql",
        "colab_type": "code",
        "colab": {}
      },
      "source": [
        "ptt_df_group = ptt_df.groupby(['node_1', 'node_2']).agg({'node_3': \"sum\"})"
      ],
      "execution_count": null,
      "outputs": []
    },
    {
      "cell_type": "code",
      "metadata": {
        "id": "WYgw9PMFHccT",
        "colab_type": "code",
        "colab": {}
      },
      "source": [
        "ptt_df_group.to_csv('./test.csv',index = True)"
      ],
      "execution_count": null,
      "outputs": []
    },
    {
      "cell_type": "code",
      "metadata": {
        "id": "P6VdRaGftMmm",
        "colab_type": "code",
        "colab": {}
      },
      "source": [
        "ptt_df_group = pd.read_csv('./test.csv')"
      ],
      "execution_count": null,
      "outputs": []
    },
    {
      "cell_type": "code",
      "metadata": {
        "id": "tJcrQwwD6y1e",
        "colab_type": "code",
        "colab": {
          "base_uri": "https://localhost:8080/",
          "height": 399
        },
        "outputId": "03d97b24-629f-423f-814c-ba00189c0c01"
      },
      "source": [
        "ptt_df_group"
      ],
      "execution_count": null,
      "outputs": [
        {
          "output_type": "execute_result",
          "data": {
            "text/html": [
              "<div>\n",
              "<style scoped>\n",
              "    .dataframe tbody tr th:only-of-type {\n",
              "        vertical-align: middle;\n",
              "    }\n",
              "\n",
              "    .dataframe tbody tr th {\n",
              "        vertical-align: top;\n",
              "    }\n",
              "\n",
              "    .dataframe thead th {\n",
              "        text-align: right;\n",
              "    }\n",
              "</style>\n",
              "<table border=\"1\" class=\"dataframe\">\n",
              "  <thead>\n",
              "    <tr style=\"text-align: right;\">\n",
              "      <th></th>\n",
              "      <th>node_1</th>\n",
              "      <th>node_2</th>\n",
              "      <th>node_3</th>\n",
              "    </tr>\n",
              "  </thead>\n",
              "  <tbody>\n",
              "    <tr>\n",
              "      <th>0</th>\n",
              "      <td>A6</td>\n",
              "      <td>A6</td>\n",
              "      <td>28</td>\n",
              "    </tr>\n",
              "    <tr>\n",
              "      <th>1</th>\n",
              "      <td>A6</td>\n",
              "      <td>CNTsai</td>\n",
              "      <td>2</td>\n",
              "    </tr>\n",
              "    <tr>\n",
              "      <th>2</th>\n",
              "      <td>A6</td>\n",
              "      <td>QQGirl</td>\n",
              "      <td>10</td>\n",
              "    </tr>\n",
              "    <tr>\n",
              "      <th>3</th>\n",
              "      <td>A6</td>\n",
              "      <td>R3210</td>\n",
              "      <td>2</td>\n",
              "    </tr>\n",
              "    <tr>\n",
              "      <th>4</th>\n",
              "      <td>A6</td>\n",
              "      <td>Silywuns</td>\n",
              "      <td>4</td>\n",
              "    </tr>\n",
              "    <tr>\n",
              "      <th>...</th>\n",
              "      <td>...</td>\n",
              "      <td>...</td>\n",
              "      <td>...</td>\n",
              "    </tr>\n",
              "    <tr>\n",
              "      <th>200070</th>\n",
              "      <td>給我男人拜託</td>\n",
              "      <td>xiangni514</td>\n",
              "      <td>1</td>\n",
              "    </tr>\n",
              "    <tr>\n",
              "      <th>200071</th>\n",
              "      <td>給我男人拜託</td>\n",
              "      <td>yamacha</td>\n",
              "      <td>1</td>\n",
              "    </tr>\n",
              "    <tr>\n",
              "      <th>200072</th>\n",
              "      <td>給我男人拜託</td>\n",
              "      <td>yc11</td>\n",
              "      <td>1</td>\n",
              "    </tr>\n",
              "    <tr>\n",
              "      <th>200073</th>\n",
              "      <td>給我男人拜託</td>\n",
              "      <td>yinglian</td>\n",
              "      <td>1</td>\n",
              "    </tr>\n",
              "    <tr>\n",
              "      <th>200074</th>\n",
              "      <td>給我男人拜託</td>\n",
              "      <td>zhinan</td>\n",
              "      <td>1</td>\n",
              "    </tr>\n",
              "  </tbody>\n",
              "</table>\n",
              "<p>200075 rows × 3 columns</p>\n",
              "</div>"
            ],
            "text/plain": [
              "        node_1      node_2  node_3\n",
              "0           A6          A6      28\n",
              "1           A6      CNTsai       2\n",
              "2           A6      QQGirl      10\n",
              "3           A6       R3210       2\n",
              "4           A6    Silywuns       4\n",
              "...        ...         ...     ...\n",
              "200070  給我男人拜託  xiangni514       1\n",
              "200071  給我男人拜託     yamacha       1\n",
              "200072  給我男人拜託        yc11       1\n",
              "200073  給我男人拜託    yinglian       1\n",
              "200074  給我男人拜託      zhinan       1\n",
              "\n",
              "[200075 rows x 3 columns]"
            ]
          },
          "metadata": {
            "tags": []
          },
          "execution_count": 32
        }
      ]
    },
    {
      "cell_type": "code",
      "metadata": {
        "id": "NEs_dhy2TfnH",
        "colab_type": "code",
        "colab": {}
      },
      "source": [
        "def set_pandas_display_options() -> None:\n",
        "    # Ref: https://stackoverflow.com/a/52432757/\n",
        "    display = pd.options.display\n",
        "\n",
        "    display.max_columns = 100\n",
        "    display.max_rows = 100\n",
        "    display.max_colwidth = 100\n",
        "    display.width = None\n",
        "    # display.precision = 2  # set as needed\n",
        "\n",
        "set_pandas_display_options()"
      ],
      "execution_count": null,
      "outputs": []
    },
    {
      "cell_type": "code",
      "metadata": {
        "id": "IEMq31Oy9env",
        "colab_type": "code",
        "colab": {}
      },
      "source": [
        "import numpy as np\n",
        "import networkx as nx\n",
        "import matplotlib.pyplot as plt\n",
        "\n",
        "G = nx.from_pandas_edgelist(ptt_df_group,'node_1','node_2', edge_attr='node_3')"
      ],
      "execution_count": null,
      "outputs": []
    },
    {
      "cell_type": "code",
      "metadata": {
        "id": "4tyXpC8K-icm",
        "colab_type": "code",
        "colab": {}
      },
      "source": [
        "# plot graph\n",
        "plt.figure(figsize=(20,20))\n",
        "\n",
        "pos = nx.random_layout(G, seed=23)\n",
        "nx.draw(G, with_labels=True,  pos = pos, node_size = 40, alpha = 0.6, width = 0.1)\n",
        "\n",
        "plt.show()"
      ],
      "execution_count": null,
      "outputs": []
    },
    {
      "cell_type": "code",
      "metadata": {
        "id": "ip6Fvaa7A5xA",
        "colab_type": "code",
        "colab": {}
      },
      "source": [
        "!git clone https://github.com/taynaud/python-louvain.git"
      ],
      "execution_count": null,
      "outputs": []
    },
    {
      "cell_type": "code",
      "metadata": {
        "id": "N-H21oj-A76Q",
        "colab_type": "code",
        "colab": {}
      },
      "source": [
        "import community as community_louvain\n",
        "import matplotlib.cm as cm\n",
        "import matplotlib.pyplot as plt\n",
        "import networkx as nx\n",
        "\n",
        "# load the karate club graph\n",
        "\n",
        "# compute the best partition\n",
        "partition = community_louvain.best_partition(G)\n",
        "\n",
        "# draw the graph\n",
        "pos = nx.spring_layout(G)\n",
        "# color the nodes according to their partition\n",
        "cmap = cm.get_cmap('viridis', max(partition.values()) + 1)\n",
        "nx.draw_networkx_nodes(G, pos, partition.keys(), node_size=40,\n",
        "                       cmap=cmap, node_color=list(partition.values()))\n",
        "nx.draw_networkx_edges(G, pos, alpha=0.5)\n",
        "plt.show()"
      ],
      "execution_count": null,
      "outputs": []
    }
  ]
}